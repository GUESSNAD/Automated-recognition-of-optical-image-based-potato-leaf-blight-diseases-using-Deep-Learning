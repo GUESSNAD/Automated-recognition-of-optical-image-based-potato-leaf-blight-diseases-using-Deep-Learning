{
 "cells": [
  {
   "cell_type": "code",
   "execution_count": 11,
   "metadata": {},
   "outputs": [
    {
     "name": "stdout",
     "output_type": "stream",
     "text": [
      "1\n"
     ]
    }
   ],
   "source": [
    "from keras.preprocessing.image import ImageDataGenerator, array_to_img, img_to_array, load_img\n",
    "import os\n",
    "import cv2\n",
    "import keras\n",
    "import numpy as np\n",
    "import matplotlib.pyplot as plt\n",
    "from sklearn.utils import shuffle\n",
    "from keras.preprocessing.image import load_img, img_to_array\n",
    "from keras.utils import to_categorical\n",
    "import glob\n",
    "\n",
    "\n",
    "datagen = ImageDataGenerator(rotation_range =15, \n",
    "                         horizontal_flip=True) \n",
    "\n",
    "\n",
    "img_dir = \"sample_image\" \n",
    "data_path = os.path.join(img_dir,'*jpg')\n",
    "files = glob.glob(data_path)\n",
    "data = []\n",
    "for f1 in files:\n",
    "    img = cv2.imread(f1)\n",
    "    data.append(img)\n",
    "    \n",
    "print(len(data))\n",
    "\n",
    "x = np.array(data)\n",
    "x = x.reshape(x.shape)\n",
    "\n",
    "i = 0\n",
    "\n",
    "for batch in datagen.flow (x,\n",
    "                           batch_size=32,\n",
    "                           save_to_dir ='New Folder',\n",
    "                           save_prefix=\"a\",\n",
    "                           save_format='jpg'):\n",
    "    i+=1\n",
    "    if i==1:\n",
    "      break"
   ]
  },
  {
   "cell_type": "code",
   "execution_count": null,
   "metadata": {},
   "outputs": [],
   "source": []
  }
 ],
 "metadata": {
  "kernelspec": {
   "display_name": "Python 3",
   "language": "python",
   "name": "python3"
  },
  "language_info": {
   "codemirror_mode": {
    "name": "ipython",
    "version": 3
   },
   "file_extension": ".py",
   "mimetype": "text/x-python",
   "name": "python",
   "nbconvert_exporter": "python",
   "pygments_lexer": "ipython3",
   "version": "3.8.5"
  }
 },
 "nbformat": 4,
 "nbformat_minor": 4
}
